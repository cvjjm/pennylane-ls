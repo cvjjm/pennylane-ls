{
 "cells": [
  {
   "cell_type": "markdown",
   "metadata": {},
   "source": [
    "$$\\newcommand{\\braket}[3]{\\left\\langle{#1}\\middle|{#2}|{#3}\\right\\rangle}$$\n",
    "\n",
    "$$\\newcommand{\\ket}[1]{\\left|{#1}\\right\\rangle}$$\n",
    "\n",
    "## Example Notebook for the Trapped Bosons\n",
    "\n",
    "This Notebook is based on the following [paper](https://journals.aps.org/prl/abstract/10.1103/PhysRevLett.114.080402) of Markus Oberthaler"
   ]
  },
  {
   "cell_type": "markdown",
   "metadata": {},
   "source": [
    "We have to distinguish two different sets of experiments. The two Fermions in the well can either interact or not.\n",
    "\n",
    "For the interacting system, they can either be in $\\ket{LL}$ or in the $\\ket{RR}$.\n",
    "In the case of a non-interacting system all states are possible, namely $\\ket{LL}$, $\\ket{RR}$, $\\ket{LR}$ and $ \\ket{RL}$."
   ]
  },
  {
   "cell_type": "code",
   "execution_count": 2,
   "metadata": {},
   "outputs": [],
   "source": [
    "import pennylane as qml\n",
    "from pennylane import numpy as np"
   ]
  },
  {
   "cell_type": "markdown",
   "metadata": {},
   "source": [
    "The Hamiltonian of the system is given by:\n",
    "\n",
    "$H=$\n",
    "$\\left(\\begin{array}{rrrr} \n",
    "U+2\\Delta & -J & -J& 0 \\\\ \n",
    "-J & 0 & 0 & -J  \\\\ \n",
    "-J & 0 & 0 & -J  \\\\ \n",
    "0 & -J & -J& U+2\\Delta \\\\\n",
    "\\end{array}\\right)$"
   ]
  }
 ],
 "metadata": {
  "kernelspec": {
   "display_name": "Python 3",
   "language": "python",
   "name": "python3"
  },
  "language_info": {
   "codemirror_mode": {
    "name": "ipython",
    "version": 3
   },
   "file_extension": ".py",
   "mimetype": "text/x-python",
   "name": "python",
   "nbconvert_exporter": "python",
   "pygments_lexer": "ipython3",
   "version": "3.7.9"
  }
 },
 "nbformat": 4,
 "nbformat_minor": 4
}
