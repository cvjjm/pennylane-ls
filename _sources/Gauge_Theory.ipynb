{
 "cells": [
  {
   "cell_type": "markdown",
   "metadata": {},
   "source": [
    "## Implementing local gauge invariance with atomic mixtures.\n",
    "\n",
    "This Notebook is based on the following [paper](https://science.sciencemag.org/content/367/6482/1128), which was performed on the NaLi machine at SynQS. In this paper a new scalable analog quantum simulator of a U(1) gauge theory is demonstrated. \n",
    "\n",
    "By using interspecies spin-changing collisions between particles, a gauge-invariant interaction between matter and gauge-field is achieved. In this case an atomic mixture of sodium and lithium is used.\n",
    "\n",
    "We will model the system with two qudits of slightly different length. The first qudit is the matter field and the second qudit the gauge field.\n",
    "\n"
   ]
  },
  {
   "cell_type": "code",
   "execution_count": 1,
   "metadata": {},
   "outputs": [],
   "source": [
    "import pennylane as qml\n",
    "\n",
    "import numpy as np\n",
    "import matplotlib.pyplot as plt"
   ]
  },
  {
   "cell_type": "code",
   "execution_count": 2,
   "metadata": {},
   "outputs": [],
   "source": [
    "import sys\n",
    "\n",
    "sys.path.append('../')\n",
    "from pennylane_ls import *\n",
    "from pennylane_ls.MultiQuditDevice import MultiQuditDevice\n",
    "from heroku_credentials import username, password"
   ]
  },
  {
   "cell_type": "markdown",
   "metadata": {},
   "source": [
    "# Rotating the matter field\n",
    "\n",
    "we have to rotate the matter field to initialize the dynamics in the system first"
   ]
  },
  {
   "cell_type": "code",
   "execution_count": 3,
   "metadata": {},
   "outputs": [],
   "source": [
    "NaLiDevice = MultiQuditDevice(wires=2,shots=50, username = username, password = password)"
   ]
  },
  {
   "cell_type": "code",
   "execution_count": 4,
   "metadata": {},
   "outputs": [],
   "source": [
    "@qml.qnode(NaLiDevice)\n",
    "def matterpreparation(alpha=0):\n",
    "    MultiQuditOps.load(2,wires=[0])\n",
    "    MultiQuditOps.load(20,wires=[1])\n",
    "    MultiQuditOps.rLx(alpha,wires=[1])\n",
    "    obs = MultiQuditOps.Lz(0) @ MultiQuditOps.Lz(1)\n",
    "    return qml.expval(obs)"
   ]
  },
  {
   "cell_type": "markdown",
   "metadata": {},
   "source": [
    "visualize the circuit"
   ]
  },
  {
   "cell_type": "code",
   "execution_count": 5,
   "metadata": {},
   "outputs": [
    {
     "name": "stdout",
     "output_type": "stream",
     "text": [
      " 0: ──load(2)──────────────╭┤ ⟨Lz ⊗ Lz⟩ \n",
      " 1: ──load(20)──rLx(3.14)──╰┤ ⟨Lz ⊗ Lz⟩ \n",
      "\n"
     ]
    }
   ],
   "source": [
    "matterpreparation(np.pi)\n",
    "print(matterpreparation.draw())"
   ]
  },
  {
   "cell_type": "markdown",
   "metadata": {},
   "source": [
    "now reproduce figure 1"
   ]
  },
  {
   "cell_type": "code",
   "execution_count": 55,
   "metadata": {},
   "outputs": [
    {
     "name": "stdout",
     "output_type": "stream",
     "text": [
      "step 0\n",
      "step 10\n"
     ]
    }
   ],
   "source": [
    "alphas = np.linspace(0, np.pi, 15)\n",
    "means = np.zeros((len(alphas),2))\n",
    "for i in range(len(alphas)):\n",
    "    if i%10==0:\n",
    "        print(\"step\", i)\n",
    "    # Calculate the resulting states after each rotation\n",
    "    means[i,:] = matterpreparation(alphas[i])"
   ]
  },
  {
   "cell_type": "code",
   "execution_count": 56,
   "metadata": {},
   "outputs": [
    {
     "data": {
      "text/plain": [
       "<matplotlib.legend.Legend at 0x7fe00c147640>"
      ]
     },
     "execution_count": 56,
     "metadata": {},
     "output_type": "execute_result"
    },
    {
     "data": {
      "image/png": "[encoded data removed]",
      "text/plain": [
       "<Figure size 432x288 with 1 Axes>"
      ]
     },
     "metadata": {
      "needs_background": "light"
     },
     "output_type": "display_data"
    }
   ],
   "source": [
    "f, ax = plt.subplots()\n",
    "ax.plot(alphas, means[:,0], 'o', label = 'gauge field')\n",
    "ax.plot(alphas, means[:,1], 'o', label = 'matter field')\n",
    "ax.set_ylabel(r'$\\eta$')\n",
    "ax.set_xlabel(r'$\\varphi$')\n",
    "ax.legend()"
   ]
  },
  {
   "cell_type": "markdown",
   "metadata": {},
   "source": [
    "## time evolution\n",
    "and now a time evolution"
   ]
  },
  {
   "cell_type": "code",
   "execution_count": 57,
   "metadata": {},
   "outputs": [],
   "source": [
    "@qml.qnode(NaLiDevice)\n",
    "def t_evolv(alpha=0, beta=0, gamma=0, delta=0, NLi = 1, NNa = 10, Ntrott = 1):\n",
    "    '''Circuit that describes the time evolution.\n",
    "    \n",
    "    alpha ... Initial angle of rotation of the matter field\n",
    "    beta ... Angle of rotation for the matter field\n",
    "    gamma ... Angle of rotation on the squeezing term.\n",
    "    delta ... Angle of rotation of the flip flop term.\n",
    "    '''\n",
    "    # preparation step\n",
    "    MultiQuditOps.load(NLi,wires=[0])\n",
    "    MultiQuditOps.load(NNa,wires=[1])\n",
    "    MultiQuditOps.rLx(alpha,wires=[1])\n",
    "    \n",
    "    # time evolution\n",
    "    for ii in range(Ntrott):\n",
    "        MultiQuditOps.LxLy(delta/Ntrott,wires=[0,1])\n",
    "        MultiQuditOps.rLz(beta/Ntrott,wires=[0])\n",
    "        MultiQuditOps.rLz2(gamma/Ntrott,wires=[1])\n",
    "    obs = MultiQuditOps.Lz(0)\n",
    "    return qml.expval(obs)"
   ]
  },
  {
   "cell_type": "code",
   "execution_count": 58,
   "metadata": {},
   "outputs": [
    {
     "data": {
      "text/plain": [
       "tensor(0.8, requires_grad=False)"
      ]
     },
     "execution_count": 58,
     "metadata": {},
     "output_type": "execute_result"
    }
   ],
   "source": [
    "t_evolv(alpha=np.pi/2, beta=0.1, gamma=0.3, delta=0.2)"
   ]
  },
  {
   "cell_type": "code",
   "execution_count": 59,
   "metadata": {},
   "outputs": [
    {
     "name": "stdout",
     "output_type": "stream",
     "text": [
      " 0: ──load(1)──────────────╭LxLy(0.2)──rLz(0.1)───┤ ⟨Lz⟩ \n",
      " 1: ──load(10)──rLx(1.57)──╰LxLy(0.2)──rLz2(0.3)──┤      \n",
      "\n"
     ]
    }
   ],
   "source": [
    "print(t_evolv.draw())"
   ]
  },
  {
   "cell_type": "markdown",
   "metadata": {},
   "source": [
    "parameters of the experiment"
   ]
  },
  {
   "cell_type": "code",
   "execution_count": 60,
   "metadata": {},
   "outputs": [],
   "source": [
    "Delta = -2*np.pi*500;\n",
    "chiT = 2.*np.pi*0.01*300e3;\n",
    "lamT = 2.*np.pi*2e-4*300e3;"
   ]
  },
  {
   "cell_type": "code",
   "execution_count": 61,
   "metadata": {},
   "outputs": [],
   "source": [
    "Ntrott = 4;\n",
    "NLi = 3;\n",
    "NNa = 50;\n",
    "alpha = np.pi/2;\n",
    "chi = chiT/NNa;\n",
    "lam = lamT/NNa;"
   ]
  },
  {
   "cell_type": "code",
   "execution_count": 62,
   "metadata": {},
   "outputs": [
    {
     "data": {
      "text/plain": [
       "array([0.        , 0.01884956, 0.03769911, 0.05654867, 0.07539822])"
      ]
     },
     "execution_count": 62,
     "metadata": {},
     "output_type": "execute_result"
    }
   ],
   "source": [
    "lam*times"
   ]
  },
  {
   "cell_type": "code",
   "execution_count": 63,
   "metadata": {},
   "outputs": [],
   "source": [
    "times = np.linspace(0, 10., 5)*1e-3;\n",
    "means = np.zeros(len(times))\n",
    "for i in range(len(times)):\n",
    "    means[i] = t_evolv(alpha, Delta*times[i], chi*times[i],lam*times[i], NLi, NNa, Ntrott = Ntrott)"
   ]
  },
  {
   "cell_type": "code",
   "execution_count": 64,
   "metadata": {},
   "outputs": [
    {
     "data": {
      "text/plain": [
       "<matplotlib.legend.Legend at 0x7fe00c5bbcd0>"
      ]
     },
     "execution_count": 64,
     "metadata": {},
     "output_type": "execute_result"
    },
    {
     "data": {
      "image/png": "[encoded data removed]",
      "text/plain": [
       "<Figure size 432x288 with 1 Axes>"
      ]
     },
     "metadata": {
      "needs_background": "light"
     },
     "output_type": "display_data"
    }
   ],
   "source": [
    "f, ax = plt.subplots()\n",
    "ax.plot(times*1e3, means, 'o', label = 'matter field')\n",
    "ax.set_ylabel(r'$\\eta$')\n",
    "ax.set_xlabel('time (ms)')\n",
    "ax.legend()"
   ]
  }
 ],
 "metadata": {
  "kernelspec": {
   "display_name": "Python 3 (ipykernel)",
   "language": "python",
   "name": "python3"
  },
  "language_info": {
   "codemirror_mode": {
    "name": "ipython",
    "version": 3
   },
   "file_extension": ".py",
   "mimetype": "text/x-python",
   "name": "python",
   "nbconvert_exporter": "python",
   "pygments_lexer": "ipython3",
   "version": "3.9.1"
  }
 },
 "nbformat": 4,
 "nbformat_minor": 4
}
